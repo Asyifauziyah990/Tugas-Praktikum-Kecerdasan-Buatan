{
  "nbformat": 4,
  "nbformat_minor": 0,
  "metadata": {
    "colab": {
      "provenance": []
    },
    "kernelspec": {
      "name": "python3",
      "display_name": "Python 3"
    },
    "language_info": {
      "name": "python"
    }
  },
  "cells": [
    {
      "cell_type": "code",
      "execution_count": 1,
      "metadata": {
        "colab": {
          "base_uri": "https://localhost:8080/"
        },
        "id": "8q0w44BBJF9d",
        "outputId": "b794c961-4129-4bfd-b64f-c384de1d9b51"
      },
      "outputs": [
        {
          "output_type": "stream",
          "name": "stdout",
          "text": [
            "BFS : ['A', 'B', 'C', 'D', 'E', 'F', 'G']\n"
          ]
        }
      ],
      "source": [
        "def bfs(graph, source):\n",
        "  visited = set()\n",
        "  bfs_traversal = list()\n",
        "  queue = list()\n",
        "  \n",
        "  #push the root node to the queue and mark it as visited\n",
        "  queue.append(source)\n",
        "  visited.add(source)\n",
        "\n",
        "  #loop until the queue is empty\n",
        "  while queue:\n",
        "    #pop the front node of the queue and add it to bfs_traversal\n",
        "    current_node = queue.pop(0)\n",
        "    bfs_traversal.append(current_node)\n",
        "    #check all the neighbour of the current node\n",
        "    for neighbour_node in graph[current_node]:\n",
        "      #if the neighbour nodes are not already visited,\n",
        "      #push them to the queue and mark them as visited\n",
        "      if neighbour_node not in visited:\n",
        "        visited.add(neighbour_node)\n",
        "        queue.append(neighbour_node)\n",
        "  return bfs_traversal\n",
        "\n",
        "\n",
        "graph = {\n",
        "      'A':['B', 'C'],\n",
        "      'B':['A', 'D','E'],\n",
        "      'C':['A','F','G'],\n",
        "      'D':['B'],\n",
        "      'E':['B'],\n",
        "      'F':['C'],\n",
        "      'G':['C']\n",
        "}\n",
        "bfs_traversal=bfs(graph, 'A')\n",
        "print(f\"BFS : {bfs_traversal}\")\n"
      ]
    },
    {
      "cell_type": "code",
      "source": [],
      "metadata": {
        "id": "rXCyJC-UX9wA"
      },
      "execution_count": null,
      "outputs": []
    }
  ]
}