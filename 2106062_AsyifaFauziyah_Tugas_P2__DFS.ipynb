{
  "nbformat": 4,
  "nbformat_minor": 0,
  "metadata": {
    "colab": {
      "provenance": []
    },
    "kernelspec": {
      "name": "python3",
      "display_name": "Python 3"
    },
    "language_info": {
      "name": "python"
    }
  },
  "cells": [
    {
      "cell_type": "code",
      "execution_count": 1,
      "metadata": {
        "colab": {
          "base_uri": "https://localhost:8080/"
        },
        "id": "EAOls-PnYSB5",
        "outputId": "33072a12-ed89-45ed-fce2-d8d55e2d9fbb"
      },
      "outputs": [
        {
          "output_type": "stream",
          "name": "stdout",
          "text": [
            "DFS : ['A', 'B', 'D', 'E', 'C', 'F', 'G']\n"
          ]
        }
      ],
      "source": [
        "def dfs(graph, source, visited, dfs_traversal):\n",
        "  if source not in visited:\n",
        "    dfs_traversal.append(source)\n",
        "    visited.add(source)\n",
        "    for neighbour_node in graph[source]:\n",
        "      dfs(graph, neighbour_node, visited, dfs_traversal)\n",
        "  return dfs_traversal\n",
        "\n",
        "visited = set()\n",
        "dfs_traversal = list()\n",
        "graph = {\n",
        "    'A':['B','C'],\n",
        "    'B':['D', 'E'],\n",
        "    'C':['F', 'G'],\n",
        "    'D':[],\n",
        "    'E':[],\n",
        "    'F':[],\n",
        "    'G':[]\n",
        "}\n",
        "print(f\"DFS : {dfs(graph, 'A', visited, dfs_traversal)}\")"
      ]
    }
  ]
}